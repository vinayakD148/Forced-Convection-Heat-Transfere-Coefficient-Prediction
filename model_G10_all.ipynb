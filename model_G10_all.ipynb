{
  "nbformat": 4,
  "nbformat_minor": 0,
  "metadata": {
    "colab": {
      "name": "model_G10_all.ipynb",
      "provenance": [],
      "collapsed_sections": []
    },
    "kernelspec": {
      "name": "python3",
      "display_name": "Python 3"
    },
    "language_info": {
      "name": "python"
    }
  },
  "cells": [
    {
      "cell_type": "code",
      "metadata": {
        "id": "WUMiGbKr22Em"
      },
      "source": [
        "#importing necessary libraries\n",
        "import pandas as pd\n",
        "import numpy as np\n",
        "import matplotlib.pyplot as plt\n",
        "import seaborn as sns\n",
        "%matplotlib inline\n",
        "\n",
        "from sklearn.compose import TransformedTargetRegressor\n",
        "from sklearn.preprocessing import QuantileTransformer\n",
        "from sklearn.linear_model import LinearRegression\n",
        "from sklearn.model_selection import train_test_split"
      ],
      "execution_count": null,
      "outputs": []
    },
    {
      "cell_type": "code",
      "metadata": {
        "colab": {
          "base_uri": "https://localhost:8080/"
        },
        "id": "DN41AG9V30zK",
        "outputId": "228de9ed-6ece-4e8f-8220-a73f8fe6ee69"
      },
      "source": [
        "from google.colab import drive\n",
        "drive.mount('/content/gdrive')"
      ],
      "execution_count": null,
      "outputs": [
        {
          "output_type": "stream",
          "name": "stdout",
          "text": [
            "Mounted at /content/gdrive\n"
          ]
        }
      ]
    },
    {
      "cell_type": "code",
      "metadata": {
        "colab": {
          "base_uri": "https://localhost:8080/",
          "height": 206
        },
        "id": "76Lwy3Ub32n2",
        "outputId": "2a7ba56f-8200-436f-c3e0-1a6da191a4c0"
      },
      "source": [
        "#importing dataset\n",
        "import pandas as pd\n",
        "df=pd.read_csv('gdrive/My Drive/Colab Notebooks/project_data.csv', encoding = 'ISO-8859-1')\n",
        "df.head()"
      ],
      "execution_count": null,
      "outputs": [
        {
          "output_type": "execute_result",
          "data": {
            "text/html": [
              "<div>\n",
              "<style scoped>\n",
              "    .dataframe tbody tr th:only-of-type {\n",
              "        vertical-align: middle;\n",
              "    }\n",
              "\n",
              "    .dataframe tbody tr th {\n",
              "        vertical-align: top;\n",
              "    }\n",
              "\n",
              "    .dataframe thead th {\n",
              "        text-align: right;\n",
              "    }\n",
              "</style>\n",
              "<table border=\"1\" class=\"dataframe\">\n",
              "  <thead>\n",
              "    <tr style=\"text-align: right;\">\n",
              "      <th></th>\n",
              "      <th>Velocity</th>\n",
              "      <th>Voltage</th>\n",
              "      <th>Current</th>\n",
              "      <th>Q</th>\n",
              "      <th>T1</th>\n",
              "      <th>T2</th>\n",
              "      <th>T3</th>\n",
              "      <th>T4</th>\n",
              "      <th>T5</th>\n",
              "      <th>T6</th>\n",
              "      <th>Ts</th>\n",
              "      <th>Ta</th>\n",
              "      <th>A</th>\n",
              "      <th>h</th>\n",
              "    </tr>\n",
              "  </thead>\n",
              "  <tbody>\n",
              "    <tr>\n",
              "      <th>0</th>\n",
              "      <td>2.0</td>\n",
              "      <td>60</td>\n",
              "      <td>0.7</td>\n",
              "      <td>42</td>\n",
              "      <td>36</td>\n",
              "      <td>51</td>\n",
              "      <td>50</td>\n",
              "      <td>53</td>\n",
              "      <td>55</td>\n",
              "      <td>39</td>\n",
              "      <td>47.33</td>\n",
              "      <td>23</td>\n",
              "      <td>0.000531</td>\n",
              "      <td>32.509677</td>\n",
              "    </tr>\n",
              "    <tr>\n",
              "      <th>1</th>\n",
              "      <td>2.0</td>\n",
              "      <td>60</td>\n",
              "      <td>0.7</td>\n",
              "      <td>42</td>\n",
              "      <td>36</td>\n",
              "      <td>52</td>\n",
              "      <td>51</td>\n",
              "      <td>53</td>\n",
              "      <td>55</td>\n",
              "      <td>39</td>\n",
              "      <td>47.67</td>\n",
              "      <td>23</td>\n",
              "      <td>0.000531</td>\n",
              "      <td>32.061632</td>\n",
              "    </tr>\n",
              "    <tr>\n",
              "      <th>2</th>\n",
              "      <td>2.0</td>\n",
              "      <td>60</td>\n",
              "      <td>0.7</td>\n",
              "      <td>42</td>\n",
              "      <td>37</td>\n",
              "      <td>52</td>\n",
              "      <td>52</td>\n",
              "      <td>54</td>\n",
              "      <td>56</td>\n",
              "      <td>41</td>\n",
              "      <td>48.67</td>\n",
              "      <td>23</td>\n",
              "      <td>0.000531</td>\n",
              "      <td>30.812639</td>\n",
              "    </tr>\n",
              "    <tr>\n",
              "      <th>3</th>\n",
              "      <td>2.0</td>\n",
              "      <td>60</td>\n",
              "      <td>0.7</td>\n",
              "      <td>42</td>\n",
              "      <td>37</td>\n",
              "      <td>53</td>\n",
              "      <td>52</td>\n",
              "      <td>54</td>\n",
              "      <td>57</td>\n",
              "      <td>40</td>\n",
              "      <td>48.83</td>\n",
              "      <td>23</td>\n",
              "      <td>0.000531</td>\n",
              "      <td>30.621775</td>\n",
              "    </tr>\n",
              "    <tr>\n",
              "      <th>4</th>\n",
              "      <td>2.0</td>\n",
              "      <td>60</td>\n",
              "      <td>0.7</td>\n",
              "      <td>42</td>\n",
              "      <td>36</td>\n",
              "      <td>53</td>\n",
              "      <td>53</td>\n",
              "      <td>55</td>\n",
              "      <td>59</td>\n",
              "      <td>41</td>\n",
              "      <td>49.50</td>\n",
              "      <td>23</td>\n",
              "      <td>0.000531</td>\n",
              "      <td>29.847564</td>\n",
              "    </tr>\n",
              "  </tbody>\n",
              "</table>\n",
              "</div>"
            ],
            "text/plain": [
              "   Velocity  Voltage  Current   Q  T1  ...  T6     Ts  Ta         A          h\n",
              "0       2.0       60      0.7  42  36  ...  39  47.33  23  0.000531  32.509677\n",
              "1       2.0       60      0.7  42  36  ...  39  47.67  23  0.000531  32.061632\n",
              "2       2.0       60      0.7  42  37  ...  41  48.67  23  0.000531  30.812639\n",
              "3       2.0       60      0.7  42  37  ...  40  48.83  23  0.000531  30.621775\n",
              "4       2.0       60      0.7  42  36  ...  41  49.50  23  0.000531  29.847564\n",
              "\n",
              "[5 rows x 14 columns]"
            ]
          },
          "metadata": {},
          "execution_count": 3
        }
      ]
    },
    {
      "cell_type": "code",
      "metadata": {
        "id": "TFKSzBtmw-nN"
      },
      "source": [
        "#creating dataframe of variables with high correlation with output variable\n",
        "data = df[['Q','Ts','h']]"
      ],
      "execution_count": null,
      "outputs": []
    },
    {
      "cell_type": "code",
      "metadata": {
        "id": "kQWVw7ZHwlg8"
      },
      "source": [
        "#x - independent variables, y - dependent variable\n",
        "x=data.iloc[:,0:2].values\n",
        "y=data.iloc[:,-1].values"
      ],
      "execution_count": null,
      "outputs": []
    },
    {
      "cell_type": "code",
      "metadata": {
        "id": "1BKkNaq7wW0q"
      },
      "source": [
        "#splitting data into train and test sets\n",
        "x_train, x_test, y_train, y_test = train_test_split(x, y, random_state=0, shuffle= False)\n"
      ],
      "execution_count": null,
      "outputs": []
    },
    {
      "cell_type": "markdown",
      "source": [
        "**Linear Regresison Model**\n"
      ],
      "metadata": {
        "id": "RWD11xRwnEJc"
      }
    },
    {
      "cell_type": "code",
      "metadata": {
        "colab": {
          "base_uri": "https://localhost:8080/"
        },
        "id": "T-noGZG3x0nt",
        "outputId": "e0b330e0-ea62-4108-a7d1-d7cff0bfe95b"
      },
      "source": [
        "model1 = LinearRegression().fit(x_train,y_train)\n",
        "model1.predict(x)\n",
        "print(model1.score(x_test,y_test))\n"
      ],
      "execution_count": null,
      "outputs": [
        {
          "output_type": "stream",
          "name": "stdout",
          "text": [
            "0.8531820781080436\n"
          ]
        }
      ]
    },
    {
      "cell_type": "code",
      "source": [
        "print(\"Train Accuracy:\",model1.score(x_train, y_train))\n",
        "print(\"Test Accuracy:\",model1.score(x_test, y_test))"
      ],
      "metadata": {
        "colab": {
          "base_uri": "https://localhost:8080/"
        },
        "id": "k8E8B3aIZVzB",
        "outputId": "1fba9245-ed89-4a58-ae04-436ef0a3f527"
      },
      "execution_count": null,
      "outputs": [
        {
          "output_type": "stream",
          "name": "stdout",
          "text": [
            "Train Accuracy: 0.9382384556561477\n",
            "Test Accuracy: 0.8531820781080436\n"
          ]
        }
      ]
    },
    {
      "cell_type": "code",
      "metadata": {
        "id": "t3FqM066OTl9",
        "colab": {
          "base_uri": "https://localhost:8080/"
        },
        "outputId": "1e158da1-fd77-42a9-aea9-0a82d5aa6f62"
      },
      "source": [
        "data['pred_lr'] = model1.predict(x)"
      ],
      "execution_count": null,
      "outputs": [
        {
          "output_type": "stream",
          "name": "stderr",
          "text": [
            "/usr/local/lib/python3.7/dist-packages/ipykernel_launcher.py:1: SettingWithCopyWarning: \n",
            "A value is trying to be set on a copy of a slice from a DataFrame.\n",
            "Try using .loc[row_indexer,col_indexer] = value instead\n",
            "\n",
            "See the caveats in the documentation: https://pandas.pydata.org/pandas-docs/stable/user_guide/indexing.html#returning-a-view-versus-a-copy\n",
            "  \"\"\"Entry point for launching an IPython kernel.\n"
          ]
        }
      ]
    },
    {
      "cell_type": "code",
      "source": [
        "plt.plot(data['pred_lr'], label = 'predicted')\n",
        "plt.plot(df['h'], label = 'original')\n",
        "plt.legend(loc=\"upper right\")"
      ],
      "metadata": {
        "colab": {
          "base_uri": "https://localhost:8080/",
          "height": 282
        },
        "id": "H9-uYCXYXJsz",
        "outputId": "cce3c581-e7b5-4276-e177-e3dcb34a1532"
      },
      "execution_count": null,
      "outputs": [
        {
          "output_type": "execute_result",
          "data": {
            "text/plain": [
              "<matplotlib.legend.Legend at 0x7fe2f550db10>"
            ]
          },
          "metadata": {},
          "execution_count": 21
        },
        {
          "output_type": "display_data",
          "data": {
            "image/png": "[encoded data removed]",
            "text/plain": [
              "<Figure size 432x288 with 1 Axes>"
            ]
          },
          "metadata": {
            "needs_background": "light"
          }
        }
      ]
    },
    {
      "cell_type": "code",
      "metadata": {
        "colab": {
          "base_uri": "https://localhost:8080/"
        },
        "id": "8kthXB9_KHOR",
        "outputId": "614ca70d-ef5f-4c8c-f2da-999ede9cdced"
      },
      "source": [
        "from sklearn import metrics\n",
        "print('Mean Absolute Error:', metrics.mean_absolute_error(y, data['pred_lr']))"
      ],
      "execution_count": null,
      "outputs": [
        {
          "output_type": "stream",
          "name": "stdout",
          "text": [
            "Mean Absolute Error: 3.2897537944379454\n"
          ]
        }
      ]
    },
    {
      "cell_type": "markdown",
      "metadata": {
        "id": "CAht7QyHA6S_"
      },
      "source": [
        "**Desision Tree Regression**"
      ]
    },
    {
      "cell_type": "code",
      "metadata": {
        "colab": {
          "base_uri": "https://localhost:8080/"
        },
        "id": "D7U-HLK6-QZS",
        "outputId": "77f42929-f0eb-47a0-f0aa-cb117a35a7de"
      },
      "source": [
        "from sklearn.tree import DecisionTreeRegressor\n",
        "model_dt = DecisionTreeRegressor(random_state= 0)\n",
        "model_dt.fit(x_train,y_train)\n"
      ],
      "execution_count": null,
      "outputs": [
        {
          "output_type": "execute_result",
          "data": {
            "text/plain": [
              "DecisionTreeRegressor(random_state=0)"
            ]
          },
          "metadata": {},
          "execution_count": 23
        }
      ]
    },
    {
      "cell_type": "code",
      "source": [
        "print(\"Train Accuracy:\",model_dt.score(x_train, y_train))\n",
        "print(\"Test Accuracy:\",model_dt.score(x_test, y_test))"
      ],
      "metadata": {
        "colab": {
          "base_uri": "https://localhost:8080/"
        },
        "id": "SRWzwF6SnkRA",
        "outputId": "466f0081-7d11-43ae-dd4c-eda859da22ed"
      },
      "execution_count": null,
      "outputs": [
        {
          "output_type": "stream",
          "name": "stdout",
          "text": [
            "Train Accuracy: 1.0\n",
            "Test Accuracy: 0.9594424696697461\n"
          ]
        }
      ]
    },
    {
      "cell_type": "code",
      "metadata": {
        "id": "qjDoCFWaBsCb",
        "colab": {
          "base_uri": "https://localhost:8080/"
        },
        "outputId": "6b8973ee-4888-4118-be95-85958994fc86"
      },
      "source": [
        "data['y_pred_dt'] = model_dt.predict(x)"
      ],
      "execution_count": null,
      "outputs": [
        {
          "output_type": "stream",
          "name": "stderr",
          "text": [
            "/usr/local/lib/python3.7/dist-packages/ipykernel_launcher.py:1: SettingWithCopyWarning: \n",
            "A value is trying to be set on a copy of a slice from a DataFrame.\n",
            "Try using .loc[row_indexer,col_indexer] = value instead\n",
            "\n",
            "See the caveats in the documentation: https://pandas.pydata.org/pandas-docs/stable/user_guide/indexing.html#returning-a-view-versus-a-copy\n",
            "  \"\"\"Entry point for launching an IPython kernel.\n"
          ]
        }
      ]
    },
    {
      "cell_type": "code",
      "source": [
        "print('Mean Absolute Error:', metrics.mean_absolute_error(y, data['y_pred_dt']))"
      ],
      "metadata": {
        "colab": {
          "base_uri": "https://localhost:8080/"
        },
        "id": "LvRJA0YUn2FS",
        "outputId": "d42cced4-bd1e-4efa-cafd-92df25bad892"
      },
      "execution_count": null,
      "outputs": [
        {
          "output_type": "stream",
          "name": "stdout",
          "text": [
            "Mean Absolute Error: 0.2599693819319321\n"
          ]
        }
      ]
    },
    {
      "cell_type": "code",
      "metadata": {
        "colab": {
          "base_uri": "https://localhost:8080/",
          "height": 282
        },
        "id": "RGJ_qVhbByzF",
        "outputId": "2f976dff-4eee-487a-9579-1da81e2bb36c"
      },
      "source": [
        "plt.plot(data['y_pred_dt'], label = 'predicted')\n",
        "plt.plot(df['h'], label = 'original')\n",
        "plt.legend(loc=\"upper right\")"
      ],
      "execution_count": null,
      "outputs": [
        {
          "output_type": "execute_result",
          "data": {
            "text/plain": [
              "<matplotlib.legend.Legend at 0x7fe2f54a8dd0>"
            ]
          },
          "metadata": {},
          "execution_count": 27
        },
        {
          "output_type": "display_data",
          "data": {
            "image/png": "[encoded data removed]",
            "text/plain": [
              "<Figure size 432x288 with 1 Axes>"
            ]
          },
          "metadata": {
            "needs_background": "light"
          }
        }
      ]
    },
    {
      "cell_type": "markdown",
      "metadata": {
        "id": "wRftR9l-BDZL"
      },
      "source": [
        "**Support Vector Regression**"
      ]
    },
    {
      "cell_type": "code",
      "metadata": {
        "colab": {
          "base_uri": "https://localhost:8080/"
        },
        "id": "78N5PWEg-Ti-",
        "outputId": "3f7bec12-bb89-4e76-bde5-3a73a96e1c93"
      },
      "source": [
        "from sklearn.svm import SVR\n",
        "svr_mod = SVR(kernel='linear',gamma='scale', C=1.0, epsilon=0.1)\n",
        "svr_mod.fit(x_train, y_train)\n",
        "print(svr_mod.score(x_test,y_test))"
      ],
      "execution_count": null,
      "outputs": [
        {
          "output_type": "stream",
          "name": "stdout",
          "text": [
            "0.8339035130295649\n"
          ]
        }
      ]
    },
    {
      "cell_type": "code",
      "source": [
        "print(\"Train Accuracy:\",svr_mod.score(x_train, y_train))\n",
        "print(\"Test Accuracy:\",svr_mod.score(x_test, y_test))"
      ],
      "metadata": {
        "colab": {
          "base_uri": "https://localhost:8080/"
        },
        "id": "LcXoQye8oP9N",
        "outputId": "e062d7f4-baf0-4a40-8ede-7db779472d3b"
      },
      "execution_count": null,
      "outputs": [
        {
          "output_type": "stream",
          "name": "stdout",
          "text": [
            "Train Accuracy: 0.9309842183462742\n",
            "Test Accuracy: 0.8339035130295649\n"
          ]
        }
      ]
    },
    {
      "cell_type": "code",
      "metadata": {
        "id": "VPleOoK_CHU2",
        "colab": {
          "base_uri": "https://localhost:8080/"
        },
        "outputId": "14232ab8-c4c2-47b2-866a-2dd75516a3d8"
      },
      "source": [
        "data['y_pred_svr'] = svr_mod.predict(x)"
      ],
      "execution_count": null,
      "outputs": [
        {
          "output_type": "stream",
          "name": "stderr",
          "text": [
            "/usr/local/lib/python3.7/dist-packages/ipykernel_launcher.py:1: SettingWithCopyWarning: \n",
            "A value is trying to be set on a copy of a slice from a DataFrame.\n",
            "Try using .loc[row_indexer,col_indexer] = value instead\n",
            "\n",
            "See the caveats in the documentation: https://pandas.pydata.org/pandas-docs/stable/user_guide/indexing.html#returning-a-view-versus-a-copy\n",
            "  \"\"\"Entry point for launching an IPython kernel.\n"
          ]
        }
      ]
    },
    {
      "cell_type": "code",
      "source": [
        "print('Mean Absolute Error:', metrics.mean_absolute_error(y, data['y_pred_svr']))"
      ],
      "metadata": {
        "colab": {
          "base_uri": "https://localhost:8080/"
        },
        "id": "N5dUdaUAoKFS",
        "outputId": "e5a25b14-6606-4105-9344-ab71ca681878"
      },
      "execution_count": null,
      "outputs": [
        {
          "output_type": "stream",
          "name": "stdout",
          "text": [
            "Mean Absolute Error: 3.1900360855131247\n"
          ]
        }
      ]
    },
    {
      "cell_type": "code",
      "metadata": {
        "colab": {
          "base_uri": "https://localhost:8080/",
          "height": 282
        },
        "id": "fDuOFmKpCOpc",
        "outputId": "b64b3b78-25a4-491e-e2fc-adde8c73570a"
      },
      "source": [
        "plt.plot(data['y_pred_svr'], label = 'predicted')\n",
        "plt.plot(df['h'], label = 'original')\n",
        "plt.legend(loc=\"upper right\")"
      ],
      "execution_count": null,
      "outputs": [
        {
          "output_type": "execute_result",
          "data": {
            "text/plain": [
              "<matplotlib.legend.Legend at 0x7fe2f5424dd0>"
            ]
          },
          "metadata": {},
          "execution_count": 32
        },
        {
          "output_type": "display_data",
          "data": {
            "image/png": "[encoded data removed]",
            "text/plain": [
              "<Figure size 432x288 with 1 Axes>"
            ]
          },
          "metadata": {
            "needs_background": "light"
          }
        }
      ]
    },
    {
      "cell_type": "markdown",
      "metadata": {
        "id": "zkip3mL1BJ_L"
      },
      "source": [
        "**Random Forest Regression**"
      ]
    },
    {
      "cell_type": "code",
      "metadata": {
        "colab": {
          "base_uri": "https://localhost:8080/"
        },
        "id": "8-hNVqI6-XHN",
        "outputId": "961625e3-a4cb-4af2-eaec-a89c99e39d62"
      },
      "source": [
        "from sklearn.ensemble import RandomForestRegressor\n",
        "rf_reg = RandomForestRegressor(criterion = 'mse', n_estimators = 500, random_state = 0)\n",
        "rf_reg.fit(x_train,y_train)\n",
        "print(rf_reg.score(x_test,y_test))"
      ],
      "execution_count": null,
      "outputs": [
        {
          "output_type": "stream",
          "name": "stderr",
          "text": [
            "/usr/local/lib/python3.7/dist-packages/sklearn/ensemble/_forest.py:392: FutureWarning: Criterion 'mse' was deprecated in v1.0 and will be removed in version 1.2. Use `criterion='squared_error'` which is equivalent.\n",
            "  FutureWarning,\n"
          ]
        },
        {
          "output_type": "stream",
          "name": "stdout",
          "text": [
            "0.9056515419902459\n"
          ]
        }
      ]
    },
    {
      "cell_type": "code",
      "source": [
        "print(\"Train Accuracy:\",rf_reg.score(x_train, y_train))\n",
        "print(\"Test Accuracy:\",rf_reg.score(x_test, y_test))"
      ],
      "metadata": {
        "colab": {
          "base_uri": "https://localhost:8080/"
        },
        "id": "91tbeerEouZq",
        "outputId": "3638b82e-9d46-4ab2-f749-d31a20a4d9c6"
      },
      "execution_count": null,
      "outputs": [
        {
          "output_type": "stream",
          "name": "stdout",
          "text": [
            "Train Accuracy: 0.9996769554541398\n",
            "Test Accuracy: 0.9056515419902459\n"
          ]
        }
      ]
    },
    {
      "cell_type": "code",
      "metadata": {
        "id": "pyUiia2H-Zzz",
        "colab": {
          "base_uri": "https://localhost:8080/"
        },
        "outputId": "a3fa659c-5201-447c-e7cd-b0257667b8d9"
      },
      "source": [
        "data['y_pred_rf'] = rf_reg.predict(x)"
      ],
      "execution_count": null,
      "outputs": [
        {
          "output_type": "stream",
          "name": "stderr",
          "text": [
            "/usr/local/lib/python3.7/dist-packages/ipykernel_launcher.py:1: SettingWithCopyWarning: \n",
            "A value is trying to be set on a copy of a slice from a DataFrame.\n",
            "Try using .loc[row_indexer,col_indexer] = value instead\n",
            "\n",
            "See the caveats in the documentation: https://pandas.pydata.org/pandas-docs/stable/user_guide/indexing.html#returning-a-view-versus-a-copy\n",
            "  \"\"\"Entry point for launching an IPython kernel.\n"
          ]
        }
      ]
    },
    {
      "cell_type": "code",
      "source": [
        "print('Mean Absolute Error:', metrics.mean_absolute_error(y, data['y_pred_rf']))"
      ],
      "metadata": {
        "colab": {
          "base_uri": "https://localhost:8080/"
        },
        "id": "MoEh75Aio1-V",
        "outputId": "694af884-5162-4391-f6cd-b31d1350c34a"
      },
      "execution_count": null,
      "outputs": [
        {
          "output_type": "stream",
          "name": "stdout",
          "text": [
            "Mean Absolute Error: 0.4901416723287366\n"
          ]
        }
      ]
    },
    {
      "cell_type": "code",
      "metadata": {
        "colab": {
          "base_uri": "https://localhost:8080/",
          "height": 282
        },
        "id": "OMT3YoEkCjMF",
        "outputId": "82006475-44a5-4119-c294-4c45c21c6fca"
      },
      "source": [
        "plt.plot(data['y_pred_rf'], label = 'predicted')\n",
        "plt.plot(df['h'], label = 'original')\n",
        "plt.legend(loc=\"upper right\")"
      ],
      "execution_count": null,
      "outputs": [
        {
          "output_type": "execute_result",
          "data": {
            "text/plain": [
              "<matplotlib.legend.Legend at 0x7fe2f3c37110>"
            ]
          },
          "metadata": {},
          "execution_count": 37
        },
        {
          "output_type": "display_data",
          "data": {
            "image/png": "[encoded data removed]",
            "text/plain": [
              "<Figure size 432x288 with 1 Axes>"
            ]
          },
          "metadata": {
            "needs_background": "light"
          }
        }
      ]
    },
    {
      "cell_type": "code",
      "source": [
        "model_dt.predict([[320,117]])"
      ],
      "metadata": {
        "colab": {
          "base_uri": "https://localhost:8080/"
        },
        "id": "VMsHjMcOWd94",
        "outputId": "8c129c30-d68e-49c7-bbec-da178f4e8d3f"
      },
      "execution_count": null,
      "outputs": [
        {
          "output_type": "execute_result",
          "data": {
            "text/plain": [
              "array([64.11026966])"
            ]
          },
          "metadata": {},
          "execution_count": 38
        }
      ]
    },
    {
      "cell_type": "code",
      "source": [
        ""
      ],
      "metadata": {
        "id": "8jBRF6BrBOzV"
      },
      "execution_count": null,
      "outputs": []
    }
  ]
}